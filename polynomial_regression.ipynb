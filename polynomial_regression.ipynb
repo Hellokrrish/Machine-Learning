{
  "nbformat": 4,
  "nbformat_minor": 0,
  "metadata": {
    "colab": {
      "provenance": [],
      "toc_visible": true,
      "authorship_tag": "ABX9TyMYJoU7KVVIA5YvM2sOk0Rc",
      "include_colab_link": true
    },
    "kernelspec": {
      "name": "python3",
      "display_name": "Python 3"
    },
    "language_info": {
      "name": "python"
    }
  },
  "cells": [
    {
      "cell_type": "markdown",
      "metadata": {
        "id": "view-in-github",
        "colab_type": "text"
      },
      "source": [
        "<a href=\"https://colab.research.google.com/github/Hellokrrish/Machine-Learning/blob/main/polynomial_regression.ipynb\" target=\"_parent\"><img src=\"https://colab.research.google.com/assets/colab-badge.svg\" alt=\"Open In Colab\"/></a>"
      ]
    },
    {
      "cell_type": "code",
      "execution_count": null,
      "metadata": {
        "id": "XGi5hwWAhE33"
      },
      "outputs": [],
      "source": [
        "import  pandas as pd\n",
        "import numpy as np\n",
        "import matplotlib.pyplot as plt\n",
        "import seaborn as sns"
      ]
    },
    {
      "cell_type": "code",
      "source": [
        "np.random.seed(1)"
      ],
      "metadata": {
        "id": "GHGKk1QEhZtm"
      },
      "execution_count": null,
      "outputs": []
    },
    {
      "cell_type": "code",
      "source": [
        "x=2*np.random.rand(100,1)"
      ],
      "metadata": {
        "id": "Qpu2mt0ki_pI"
      },
      "execution_count": null,
      "outputs": []
    },
    {
      "cell_type": "code",
      "source": [
        "x"
      ],
      "metadata": {
        "colab": {
          "base_uri": "https://localhost:8080/"
        },
        "id": "O0n3P9PIjKVv",
        "outputId": "1a9f64a2-bb5b-4881-f800-f66b45f0365d"
      },
      "execution_count": null,
      "outputs": [
        {
          "output_type": "execute_result",
          "data": {
            "text/plain": [
              "array([[8.34044009e-01],\n",
              "       [1.44064899e+00],\n",
              "       [2.28749635e-04],\n",
              "       [6.04665145e-01],\n",
              "       [2.93511782e-01],\n",
              "       [1.84677190e-01],\n",
              "       [3.72520423e-01],\n",
              "       [6.91121454e-01],\n",
              "       [7.93534948e-01],\n",
              "       [1.07763347e+00],\n",
              "       [8.38389029e-01],\n",
              "       [1.37043900e+00],\n",
              "       [4.08904499e-01],\n",
              "       [1.75623487e+00],\n",
              "       [5.47751864e-02],\n",
              "       [1.34093502e+00],\n",
              "       [8.34609605e-01],\n",
              "       [1.11737966e+00],\n",
              "       [2.80773877e-01],\n",
              "       [3.96202978e-01],\n",
              "       [1.60148914e+00],\n",
              "       [1.93652315e+00],\n",
              "       [6.26848356e-01],\n",
              "       [1.38464523e+00],\n",
              "       [1.75277830e+00],\n",
              "       [1.78921333e+00],\n",
              "       [1.70088423e-01],\n",
              "       [7.81095665e-02],\n",
              "       [3.39660839e-01],\n",
              "       [1.75628501e+00],\n",
              "       [1.96693668e-01],\n",
              "       [8.42215250e-01],\n",
              "       [1.91577906e+00],\n",
              "       [1.06633057e+00],\n",
              "       [1.38375423e+00],\n",
              "       [6.31031262e-01],\n",
              "       [1.37300186e+00],\n",
              "       [1.66925134e+00],\n",
              "       [3.65765547e-02],\n",
              "       [1.50028863e+00],\n",
              "       [1.97772218e+00],\n",
              "       [1.49633131e+00],\n",
              "       [5.60887984e-01],\n",
              "       [1.57855866e+00],\n",
              "       [2.06452013e-01],\n",
              "       [8.95787052e-01],\n",
              "       [1.81719101e+00],\n",
              "       [5.87228297e-01],\n",
              "       [5.75550677e-01],\n",
              "       [2.60057144e-01],\n",
              "       [3.87339157e-02],\n",
              "       [1.35767107e+00],\n",
              "       [4.23256232e-01],\n",
              "       [5.31093319e-01],\n",
              "       [9.83146319e-01],\n",
              "       [1.06725090e-01],\n",
              "       [1.14823521e+00],\n",
              "       [2.93457150e-01],\n",
              "       [1.17861107e+00],\n",
              "       [1.39951672e+00],\n",
              "       [2.04668858e-01],\n",
              "       [8.28111976e-01],\n",
              "       [1.38880032e+00],\n",
              "       [8.28358539e-01],\n",
              "       [9.99069179e-02],\n",
              "       [1.07179281e+00],\n",
              "       [1.32758929e+00],\n",
              "       [1.02977822e+00],\n",
              "       [1.88918951e+00],\n",
              "       [1.17311008e+00],\n",
              "       [1.80680383e+00],\n",
              "       [2.74949408e-01],\n",
              "       [2.78552695e-01],\n",
              "       [1.61478258e+00],\n",
              "       [7.95353674e-01],\n",
              "       [3.30708394e-01],\n",
              "       [1.85501716e+00],\n",
              "       [6.95531719e-01],\n",
              "       [1.50162421e+00],\n",
              "       [1.45199597e+00],\n",
              "       [1.76661218e+00],\n",
              "       [1.24734441e+00],\n",
              "       [1.50188487e+00],\n",
              "       [6.97796684e-01],\n",
              "       [5.39855784e-01],\n",
              "       [1.79177244e+00],\n",
              "       [8.56182380e-01],\n",
              "       [1.92968009e+00],\n",
              "       [1.32688300e+00],\n",
              "       [1.24339144e+00],\n",
              "       [2.29491946e-01],\n",
              "       [1.89897852e+00],\n",
              "       [8.99824267e-01],\n",
              "       [1.15677923e+00],\n",
              "       [8.16273606e-01],\n",
              "       [4.74053960e-01],\n",
              "       [1.80675904e+00],\n",
              "       [1.14735897e+00],\n",
              "       [5.74065406e-03],\n",
              "       [1.23428983e+00]])"
            ]
          },
          "metadata": {},
          "execution_count": 5
        }
      ]
    },
    {
      "cell_type": "code",
      "source": [
        "y= 4+3*x +1.5*x**2 +np.random.rand(100,1)"
      ],
      "metadata": {
        "id": "QVwHDwYXjLF3"
      },
      "execution_count": null,
      "outputs": []
    },
    {
      "cell_type": "code",
      "source": [
        "y"
      ],
      "metadata": {
        "colab": {
          "base_uri": "https://localhost:8080/"
        },
        "id": "ovcXKBPMjzCX",
        "outputId": "d0846925-dfc2-4df0-f2ba-4d91e097e2cc"
      },
      "execution_count": null,
      "outputs": [
        {
          "output_type": "execute_result",
          "data": {
            "text/plain": [
              "array([[ 7.87222104],\n",
              "       [11.96220932],\n",
              "       [ 4.88662843],\n",
              "       [ 6.7196951 ],\n",
              "       [ 5.91829424],\n",
              "       [ 5.22855018],\n",
              "       [ 5.34153971],\n",
              "       [ 7.71927489],\n",
              "       [ 8.01604833],\n",
              "       [ 9.97216409],\n",
              "       [ 7.74185184],\n",
              "       [11.06560733],\n",
              "       [ 6.4101133 ],\n",
              "       [14.59206417],\n",
              "       [ 4.23482621],\n",
              "       [11.47542821],\n",
              "       [ 8.30256479],\n",
              "       [10.14796945],\n",
              "       [ 5.67209735],\n",
              "       [ 5.5483451 ],\n",
              "       [12.67149873],\n",
              "       [15.46096332],\n",
              "       [ 6.49825985],\n",
              "       [11.27601039],\n",
              "       [14.72671054],\n",
              "       [14.70839754],\n",
              "       [ 5.10648235],\n",
              "       [ 5.08551125],\n",
              "       [ 5.31621006],\n",
              "       [14.17484424],\n",
              "       [ 5.23387287],\n",
              "       [ 8.56023129],\n",
              "       [15.81368151],\n",
              "       [ 8.92323033],\n",
              "       [11.824059  ],\n",
              "       [ 6.72336874],\n",
              "       [11.7538119 ],\n",
              "       [13.57521475],\n",
              "       [ 4.97527829],\n",
              "       [12.62428649],\n",
              "       [16.35648429],\n",
              "       [11.98396023],\n",
              "       [ 6.21447464],\n",
              "       [12.59479058],\n",
              "       [ 4.72784157],\n",
              "       [ 7.99850695],\n",
              "       [14.63055709],\n",
              "       [ 6.99192948],\n",
              "       [ 6.78325689],\n",
              "       [ 4.89417199],\n",
              "       [ 4.1904265 ],\n",
              "       [11.80519561],\n",
              "       [ 6.10658791],\n",
              "       [ 6.21966336],\n",
              "       [ 8.65162973],\n",
              "       [ 5.08108649],\n",
              "       [ 9.61780126],\n",
              "       [ 5.59090602],\n",
              "       [10.58953931],\n",
              "       [11.98334954],\n",
              "       [ 4.91668834],\n",
              "       [ 8.00675981],\n",
              "       [11.67950614],\n",
              "       [ 8.34332332],\n",
              "       [ 4.47148424],\n",
              "       [ 8.95706438],\n",
              "       [10.69653   ],\n",
              "       [ 9.16634457],\n",
              "       [15.62745352],\n",
              "       [10.15246257],\n",
              "       [14.63458402],\n",
              "       [ 5.92686014],\n",
              "       [ 5.53179071],\n",
              "       [13.13577306],\n",
              "       [ 7.88589044],\n",
              "       [ 5.90151168],\n",
              "       [15.39591738],\n",
              "       [ 7.07716128],\n",
              "       [11.95352034],\n",
              "       [11.88851056],\n",
              "       [14.61093196],\n",
              "       [10.28600938],\n",
              "       [12.64189739],\n",
              "       [ 6.89030685],\n",
              "       [ 6.31704885],\n",
              "       [14.99574457],\n",
              "       [ 7.86155382],\n",
              "       [16.01399906],\n",
              "       [11.14624702],\n",
              "       [10.9740157 ],\n",
              "       [ 5.03077244],\n",
              "       [15.17207576],\n",
              "       [ 8.64906433],\n",
              "       [10.24972299],\n",
              "       [ 8.35609057],\n",
              "       [ 6.69122469],\n",
              "       [14.33079605],\n",
              "       [ 9.65108793],\n",
              "       [ 4.63404975],\n",
              "       [10.93709287]])"
            ]
          },
          "metadata": {},
          "execution_count": 10
        }
      ]
    },
    {
      "cell_type": "code",
      "source": [
        "from sklearn.model_selection import train_test_split\n",
        "x_train,x_test,y_train,y_test=train_test_split(x,y,test_size=0.3,random_state=1)"
      ],
      "metadata": {
        "id": "r8Y30SX7lAbL"
      },
      "execution_count": null,
      "outputs": []
    },
    {
      "cell_type": "code",
      "source": [
        "from sklearn.preprocessing import PolynomialFeatures"
      ],
      "metadata": {
        "id": "xocfP99jluFC"
      },
      "execution_count": null,
      "outputs": []
    },
    {
      "cell_type": "code",
      "source": [
        "Poly_feature=PolynomialFeatures(degree=2,include_bias=False)"
      ],
      "metadata": {
        "id": "L7iTsYOdm-Af"
      },
      "execution_count": null,
      "outputs": []
    },
    {
      "cell_type": "code",
      "source": [
        "x_train_poly=Poly_feature.fit_transform(x_train)"
      ],
      "metadata": {
        "id": "raJ1LS-wqArh"
      },
      "execution_count": null,
      "outputs": []
    },
    {
      "cell_type": "code",
      "source": [
        "x_train_poly"
      ],
      "metadata": {
        "colab": {
          "base_uri": "https://localhost:8080/"
        },
        "id": "99r3PE1uqbpv",
        "outputId": "b07d34ed-bd37-48a1-9627-90fe96121e20"
      },
      "execution_count": null,
      "outputs": [
        {
          "output_type": "execute_result",
          "data": {
            "text/plain": [
              "array([[1.02977822e+00, 1.06044319e+00],\n",
              "       [1.23428983e+00, 1.52347138e+00],\n",
              "       [9.83146319e-01, 9.66576684e-01],\n",
              "       [4.74053960e-01, 2.24727157e-01],\n",
              "       [1.32688300e+00, 1.76061848e+00],\n",
              "       [1.97772218e+00, 3.91138501e+00],\n",
              "       [5.75550677e-01, 3.31258582e-01],\n",
              "       [1.39951672e+00, 1.95864705e+00],\n",
              "       [1.38464523e+00, 1.91724242e+00],\n",
              "       [1.38375423e+00, 1.91477576e+00],\n",
              "       [8.56182380e-01, 7.33048267e-01],\n",
              "       [5.31093319e-01, 2.82060113e-01],\n",
              "       [6.95531719e-01, 4.83764373e-01],\n",
              "       [1.34093502e+00, 1.79810673e+00],\n",
              "       [6.97796684e-01, 4.86920212e-01],\n",
              "       [1.49633131e+00, 2.23900739e+00],\n",
              "       [8.95787052e-01, 8.02434443e-01],\n",
              "       [1.89897852e+00, 3.60611941e+00],\n",
              "       [1.70088423e-01, 2.89300716e-02],\n",
              "       [5.74065406e-03, 3.29551091e-05],\n",
              "       [1.57855866e+00, 2.49184743e+00],\n",
              "       [1.06725090e-01, 1.13902449e-02],\n",
              "       [1.75277830e+00, 3.07223179e+00],\n",
              "       [2.93511782e-01, 8.61491660e-02],\n",
              "       [1.17861107e+00, 1.38912406e+00],\n",
              "       [2.60057144e-01, 6.76297183e-02],\n",
              "       [1.93652315e+00, 3.75012192e+00],\n",
              "       [1.92968009e+00, 3.72366527e+00],\n",
              "       [6.04665145e-01, 3.65619938e-01],\n",
              "       [7.95353674e-01, 6.32587467e-01],\n",
              "       [1.96693668e-01, 3.86883989e-02],\n",
              "       [1.32758929e+00, 1.76249332e+00],\n",
              "       [1.80680383e+00, 3.26454008e+00],\n",
              "       [5.60887984e-01, 3.14595331e-01],\n",
              "       [5.87228297e-01, 3.44837073e-01],\n",
              "       [1.24339144e+00, 1.54602227e+00],\n",
              "       [7.93534948e-01, 6.29697714e-01],\n",
              "       [2.04668858e-01, 4.18893413e-02],\n",
              "       [8.34044009e-01, 6.95629410e-01],\n",
              "       [2.29491946e-01, 5.26665532e-02],\n",
              "       [2.93457150e-01, 8.61170988e-02],\n",
              "       [6.26848356e-01, 3.92938862e-01],\n",
              "       [8.28111976e-01, 6.85769444e-01],\n",
              "       [8.28358539e-01, 6.86177869e-01],\n",
              "       [6.91121454e-01, 4.77648864e-01],\n",
              "       [1.80675904e+00, 3.26437823e+00],\n",
              "       [1.75623487e+00, 3.08436093e+00],\n",
              "       [1.88918951e+00, 3.56903701e+00],\n",
              "       [1.79177244e+00, 3.21044846e+00],\n",
              "       [5.47751864e-02, 3.00032104e-03],\n",
              "       [1.75628501e+00, 3.08453703e+00],\n",
              "       [3.39660839e-01, 1.15369486e-01],\n",
              "       [1.37043900e+00, 1.87810305e+00],\n",
              "       [2.80773877e-01, 7.88339701e-02],\n",
              "       [1.60148914e+00, 2.56476746e+00],\n",
              "       [3.87339157e-02, 1.50031623e-03],\n",
              "       [1.78921333e+00, 3.20128433e+00],\n",
              "       [3.72520423e-01, 1.38771465e-01],\n",
              "       [2.74949408e-01, 7.55971771e-02],\n",
              "       [1.85501716e+00, 3.44108867e+00],\n",
              "       [1.44064899e+00, 2.07546950e+00],\n",
              "       [8.34609605e-01, 6.96573192e-01],\n",
              "       [9.99069179e-02, 9.98139224e-03],\n",
              "       [1.45199597e+00, 2.10829230e+00],\n",
              "       [1.84677190e-01, 3.41056643e-02],\n",
              "       [3.30708394e-01, 1.09368042e-01],\n",
              "       [1.07763347e+00, 1.16129389e+00],\n",
              "       [2.78552695e-01, 7.75916036e-02],\n",
              "       [4.08904499e-01, 1.67202890e-01],\n",
              "       [1.66925134e+00, 2.78640005e+00]])"
            ]
          },
          "metadata": {},
          "execution_count": 29
        }
      ]
    },
    {
      "cell_type": "code",
      "source": [
        "from sklearn.linear_model import LinearRegression"
      ],
      "metadata": {
        "id": "3O-uyy9hqxOf"
      },
      "execution_count": null,
      "outputs": []
    },
    {
      "cell_type": "code",
      "source": [
        "model=LinearRegression()"
      ],
      "metadata": {
        "id": "qAt95grzsFVs"
      },
      "execution_count": null,
      "outputs": []
    },
    {
      "cell_type": "code",
      "source": [
        "model.fit(x_train_poly,y_train)"
      ],
      "metadata": {
        "colab": {
          "base_uri": "https://localhost:8080/",
          "height": 75
        },
        "id": "7ogYzmOSsHMD",
        "outputId": "bda5e3c7-6680-44d0-fe56-0866bc6097ed"
      },
      "execution_count": null,
      "outputs": [
        {
          "output_type": "execute_result",
          "data": {
            "text/plain": [
              "LinearRegression()"
            ],
            "text/html": [
              "<style>#sk-container-id-1 {color: black;}#sk-container-id-1 pre{padding: 0;}#sk-container-id-1 div.sk-toggleable {background-color: white;}#sk-container-id-1 label.sk-toggleable__label {cursor: pointer;display: block;width: 100%;margin-bottom: 0;padding: 0.3em;box-sizing: border-box;text-align: center;}#sk-container-id-1 label.sk-toggleable__label-arrow:before {content: \"▸\";float: left;margin-right: 0.25em;color: #696969;}#sk-container-id-1 label.sk-toggleable__label-arrow:hover:before {color: black;}#sk-container-id-1 div.sk-estimator:hover label.sk-toggleable__label-arrow:before {color: black;}#sk-container-id-1 div.sk-toggleable__content {max-height: 0;max-width: 0;overflow: hidden;text-align: left;background-color: #f0f8ff;}#sk-container-id-1 div.sk-toggleable__content pre {margin: 0.2em;color: black;border-radius: 0.25em;background-color: #f0f8ff;}#sk-container-id-1 input.sk-toggleable__control:checked~div.sk-toggleable__content {max-height: 200px;max-width: 100%;overflow: auto;}#sk-container-id-1 input.sk-toggleable__control:checked~label.sk-toggleable__label-arrow:before {content: \"▾\";}#sk-container-id-1 div.sk-estimator input.sk-toggleable__control:checked~label.sk-toggleable__label {background-color: #d4ebff;}#sk-container-id-1 div.sk-label input.sk-toggleable__control:checked~label.sk-toggleable__label {background-color: #d4ebff;}#sk-container-id-1 input.sk-hidden--visually {border: 0;clip: rect(1px 1px 1px 1px);clip: rect(1px, 1px, 1px, 1px);height: 1px;margin: -1px;overflow: hidden;padding: 0;position: absolute;width: 1px;}#sk-container-id-1 div.sk-estimator {font-family: monospace;background-color: #f0f8ff;border: 1px dotted black;border-radius: 0.25em;box-sizing: border-box;margin-bottom: 0.5em;}#sk-container-id-1 div.sk-estimator:hover {background-color: #d4ebff;}#sk-container-id-1 div.sk-parallel-item::after {content: \"\";width: 100%;border-bottom: 1px solid gray;flex-grow: 1;}#sk-container-id-1 div.sk-label:hover label.sk-toggleable__label {background-color: #d4ebff;}#sk-container-id-1 div.sk-serial::before {content: \"\";position: absolute;border-left: 1px solid gray;box-sizing: border-box;top: 0;bottom: 0;left: 50%;z-index: 0;}#sk-container-id-1 div.sk-serial {display: flex;flex-direction: column;align-items: center;background-color: white;padding-right: 0.2em;padding-left: 0.2em;position: relative;}#sk-container-id-1 div.sk-item {position: relative;z-index: 1;}#sk-container-id-1 div.sk-parallel {display: flex;align-items: stretch;justify-content: center;background-color: white;position: relative;}#sk-container-id-1 div.sk-item::before, #sk-container-id-1 div.sk-parallel-item::before {content: \"\";position: absolute;border-left: 1px solid gray;box-sizing: border-box;top: 0;bottom: 0;left: 50%;z-index: -1;}#sk-container-id-1 div.sk-parallel-item {display: flex;flex-direction: column;z-index: 1;position: relative;background-color: white;}#sk-container-id-1 div.sk-parallel-item:first-child::after {align-self: flex-end;width: 50%;}#sk-container-id-1 div.sk-parallel-item:last-child::after {align-self: flex-start;width: 50%;}#sk-container-id-1 div.sk-parallel-item:only-child::after {width: 0;}#sk-container-id-1 div.sk-dashed-wrapped {border: 1px dashed gray;margin: 0 0.4em 0.5em 0.4em;box-sizing: border-box;padding-bottom: 0.4em;background-color: white;}#sk-container-id-1 div.sk-label label {font-family: monospace;font-weight: bold;display: inline-block;line-height: 1.2em;}#sk-container-id-1 div.sk-label-container {text-align: center;}#sk-container-id-1 div.sk-container {/* jupyter's `normalize.less` sets `[hidden] { display: none; }` but bootstrap.min.css set `[hidden] { display: none !important; }` so we also need the `!important` here to be able to override the default hidden behavior on the sphinx rendered scikit-learn.org. See: https://github.com/scikit-learn/scikit-learn/issues/21755 */display: inline-block !important;position: relative;}#sk-container-id-1 div.sk-text-repr-fallback {display: none;}</style><div id=\"sk-container-id-1\" class=\"sk-top-container\"><div class=\"sk-text-repr-fallback\"><pre>LinearRegression()</pre><b>In a Jupyter environment, please rerun this cell to show the HTML representation or trust the notebook. <br />On GitHub, the HTML representation is unable to render, please try loading this page with nbviewer.org.</b></div><div class=\"sk-container\" hidden><div class=\"sk-item\"><div class=\"sk-estimator sk-toggleable\"><input class=\"sk-toggleable__control sk-hidden--visually\" id=\"sk-estimator-id-1\" type=\"checkbox\" checked><label for=\"sk-estimator-id-1\" class=\"sk-toggleable__label sk-toggleable__label-arrow\">LinearRegression</label><div class=\"sk-toggleable__content\"><pre>LinearRegression()</pre></div></div></div></div></div>"
            ]
          },
          "metadata": {},
          "execution_count": 32
        }
      ]
    },
    {
      "cell_type": "code",
      "source": [
        "model.coef_"
      ],
      "metadata": {
        "colab": {
          "base_uri": "https://localhost:8080/"
        },
        "id": "y56OOBC3tiAo",
        "outputId": "94ec2c9e-cfa9-4269-b972-936334cfbb42"
      },
      "execution_count": null,
      "outputs": [
        {
          "output_type": "execute_result",
          "data": {
            "text/plain": [
              "array([[3.24791178, 1.37195589]])"
            ]
          },
          "metadata": {},
          "execution_count": 33
        }
      ]
    },
    {
      "cell_type": "code",
      "source": [
        "model.intercept_"
      ],
      "metadata": {
        "colab": {
          "base_uri": "https://localhost:8080/"
        },
        "id": "8qaqtSEItjmQ",
        "outputId": "1bb8017e-3c82-4c04-9b48-006ac6411700"
      },
      "execution_count": null,
      "outputs": [
        {
          "output_type": "execute_result",
          "data": {
            "text/plain": [
              "array([4.40196506])"
            ]
          },
          "metadata": {},
          "execution_count": 34
        }
      ]
    },
    {
      "cell_type": "code",
      "source": [
        "y_pred=model.predict(x_train_poly)"
      ],
      "metadata": {
        "id": "2WhbRv0-tpG_"
      },
      "execution_count": null,
      "outputs": []
    },
    {
      "cell_type": "code",
      "source": [
        "y_pred"
      ],
      "metadata": {
        "colab": {
          "base_uri": "https://localhost:8080/"
        },
        "id": "7mjHK9H4t5SI",
        "outputId": "77fb30cf-a911-46dd-db9c-bbcdc5bb841e"
      },
      "execution_count": null,
      "outputs": [
        {
          "output_type": "execute_result",
          "data": {
            "text/plain": [
              "array([[ 9.20147516],\n",
              "       [10.50096505],\n",
              "       [ 8.92123814],\n",
              "       [ 6.24996625],\n",
              "       [11.12705486],\n",
              "       [16.19167991],\n",
              "       [ 6.72577504],\n",
              "       [11.63464925],\n",
              "       [11.52954263],\n",
              "       [11.52326459],\n",
              "       [ 8.18847978],\n",
              "       [ 6.51388334],\n",
              "       [ 7.3246941 ],\n",
              "       [11.22412682],\n",
              "       [ 7.33638018],\n",
              "       [12.3337365 ],\n",
              "       [ 8.41230704],\n",
              "       [15.5171165 ],\n",
              "       [ 4.99408803],\n",
              "       [ 4.42065541],\n",
              "       [12.94768907],\n",
              "       [ 4.76422565],\n",
              "       [14.30980084],\n",
              "       [ 5.47345829],\n",
              "       [10.13580678],\n",
              "       [ 5.33939271],\n",
              "       [15.83662325],\n",
              "       [15.77810025],\n",
              "       [ 6.86747853],\n",
              "       [ 7.85308572],\n",
              "       [ 5.09388752],\n",
              "       [11.13192104],\n",
              "       [14.74910948],\n",
              "       [ 6.65529067],\n",
              "       [ 6.78233201],\n",
              "       [10.56146512],\n",
              "       [ 7.84321405],\n",
              "       [ 5.12418178],\n",
              "       [ 8.06523928],\n",
              "       [ 5.21959084],\n",
              "       [ 5.47323685],\n",
              "       [ 6.977008  ],\n",
              "       [ 8.03244512],\n",
              "       [ 8.03380628],\n",
              "       [ 7.30197974],\n",
              "       [14.74874196],\n",
              "       [14.33766812],\n",
              "       [15.43444727],\n",
              "       [14.62607753],\n",
              "       [ 4.58398634],\n",
              "       [14.33807255],\n",
              "       [ 5.66343534],\n",
              "       [11.42970457],\n",
              "       [ 5.42205057],\n",
              "       [13.1222083 ],\n",
              "       [ 4.52982777],\n",
              "       [14.60519298],\n",
              "       [ 5.80226686],\n",
              "       [ 5.39869247],\n",
              "       [15.147919  ],\n",
              "       [11.92851848],\n",
              "       [ 8.06837112],\n",
              "       [ 4.74014794],\n",
              "       [12.0104039 ],\n",
              "       [ 5.04857175],\n",
              "       [ 5.62612488],\n",
              "       [ 9.49526748],\n",
              "       [ 5.41313189],\n",
              "       [ 5.95944579],\n",
              "       [13.64636411]])"
            ]
          },
          "metadata": {},
          "execution_count": 37
        }
      ]
    },
    {
      "cell_type": "code",
      "source": [
        "plt.scatter(x_train,y_train,label='train')"
      ],
      "metadata": {
        "colab": {
          "base_uri": "https://localhost:8080/",
          "height": 448
        },
        "id": "IYkmGGtwuCHX",
        "outputId": "463bf27b-650b-418f-b361-514936ee6e44"
      },
      "execution_count": null,
      "outputs": [
        {
          "output_type": "execute_result",
          "data": {
            "text/plain": [
              "<matplotlib.collections.PathCollection at 0x7a8ed2395a80>"
            ]
          },
          "metadata": {},
          "execution_count": 41
        },
        {
          "output_type": "display_data",
          "data": {
            "text/plain": [
              "<Figure size 640x480 with 1 Axes>"
            ],
            "image/png": "[encoded data removed]"
          },
          "metadata": {}
        }
      ]
    },
    {
      "cell_type": "code",
      "source": [
        "from sklearn.metrics import mean_squared_error"
      ],
      "metadata": {
        "id": "bW1OYkc4uQWm"
      },
      "execution_count": null,
      "outputs": []
    },
    {
      "cell_type": "code",
      "source": [
        "mean_squared_error(y_train,y_pred)"
      ],
      "metadata": {
        "colab": {
          "base_uri": "https://localhost:8080/"
        },
        "id": "uGvopAfTu5f9",
        "outputId": "51a31386-2014-4847-fe32-b78d6af6bf45"
      },
      "execution_count": null,
      "outputs": [
        {
          "output_type": "execute_result",
          "data": {
            "text/plain": [
              "0.09606334301286726"
            ]
          },
          "metadata": {},
          "execution_count": 43
        }
      ]
    },
    {
      "cell_type": "code",
      "source": [],
      "metadata": {
        "id": "3BwvKyV9u8hV"
      },
      "execution_count": null,
      "outputs": []
    }
  ]
}